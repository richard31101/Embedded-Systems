{
 "cells": [
  {
   "cell_type": "code",
   "execution_count": 2,
   "metadata": {},
   "outputs": [],
   "source": [
    "import numpy as np\n",
    "from scipy.signal import butter, lfilter, freqz\n",
    "import matplotlib.pyplot as plt\n",
    "import numpy\n",
    "import scipy as sc\n",
    "from scipy.interpolate import interp1d\n",
    "import xlrd\n",
    "import math\n",
    "from decimal import *\n",
    "\n",
    "\n",
    "if __name__ == '__main__':\n",
    "    wb = xlrd.open_workbook('takashin_[Students]assignment5_sampleXYZ.xlsx')\n",
    "    ws = wb.sheet_by_name('Sheet1')\n",
    "    num_row = int(ws.nrows - 1)\n",
    "    #train_data = [[ws.cell_value(r, c) for c in range(ws.ncols)] for r in range(1,int(num_row*0.8+1))]\n",
    "    train_data = [[ws.cell_value(r, c) for r in range(1,int(num_row*0.8+1))] for c in range(ws.ncols)]\n",
    "    #test_data = [[ws.cell_value(r, c) for c in range(ws.ncols)] for r in range(int(num_row*0.8+1),ws.nrows)]\n",
    "    test_data = [[ws.cell_value(r, c) for r in range(int(num_row*0.8+1),ws.nrows)] for c in range(ws.ncols)]"
   ]
  },
  {
   "cell_type": "code",
   "execution_count": 10,
   "metadata": {},
   "outputs": [
    {
     "data": {
      "text/plain": [
       "SVC(C=1.0, cache_size=200, class_weight=None, coef0=0.0,\n",
       "  decision_function_shape='ovo', degree=3, gamma='auto', kernel='rbf',\n",
       "  max_iter=-1, probability=False, random_state=None, shrinking=True,\n",
       "  tol=0.001, verbose=False)"
      ]
     },
     "execution_count": 10,
     "metadata": {},
     "output_type": "execute_result"
    }
   ],
   "source": [
    "from sklearn import svm\n",
    "X = [[0], [1], [2], [3]]\n",
    "Y = [0, 1, 2, 3]\n",
    "clf = svm.SVC(decision_function_shape='ovo')\n",
    "clf.fit(X, Y) \n",
    "\n",
    "#dec = clf.decision_function([[1]])\n",
    "#dec.shape[1] # 4 classes: 4*3/2 = 6\n",
    "\n",
    "#clf.decision_function_shape = \"ovr\"\n",
    "#dec = clf.decision_function([[1]])\n",
    "#dec.shape[1] # 4 classes\n"
   ]
  },
  {
   "cell_type": "code",
   "execution_count": null,
   "metadata": {
    "collapsed": true
   },
   "outputs": [],
   "source": []
  }
 ],
 "metadata": {
  "kernelspec": {
   "display_name": "Python 3",
   "language": "python",
   "name": "python3"
  },
  "language_info": {
   "codemirror_mode": {
    "name": "ipython",
    "version": 3
   },
   "file_extension": ".py",
   "mimetype": "text/x-python",
   "name": "python",
   "nbconvert_exporter": "python",
   "pygments_lexer": "ipython3",
   "version": "3.6.5"
  }
 },
 "nbformat": 4,
 "nbformat_minor": 2
}
